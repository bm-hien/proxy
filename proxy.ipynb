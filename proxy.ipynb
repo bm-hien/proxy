{
  "nbformat": 4,
  "nbformat_minor": 0,
  "metadata": {
    "colab": {
      "provenance": [],
      "authorship_tag": "ABX9TyOBXZgy3Cj71MIJPoeh8WhV",
      "include_colab_link": true
    },
    "kernelspec": {
      "name": "python3",
      "display_name": "Python 3"
    },
    "language_info": {
      "name": "python"
    }
  },
  "cells": [
    {
      "cell_type": "markdown",
      "metadata": {
        "id": "view-in-github",
        "colab_type": "text"
      },
      "source": [
        "<a href=\"https://colab.research.google.com/github/bm-hien/proxy/blob/main/proxy.ipynb\" target=\"_parent\"><img src=\"https://colab.research.google.com/assets/colab-badge.svg\" alt=\"Open In Colab\"/></a>"
      ]
    },
    {
      "cell_type": "code",
      "execution_count": 1,
      "metadata": {
        "colab": {
          "base_uri": "https://localhost:8080/"
        },
        "id": "Wf9jedtaWLj2",
        "outputId": "4469787e-37bc-4c27-ba93-d2bc3c8d6dae"
      },
      "outputs": [
        {
          "output_type": "stream",
          "name": "stdout",
          "text": [
            "Reading package lists... Done\n",
            "Building dependency tree       \n",
            "Reading state information... Done\n",
            "The following additional packages will be installed:\n",
            "  libhiredis0.14 libpcap0.8\n",
            "The following NEW packages will be installed:\n",
            "  libhiredis0.14 libpcap0.8 zmap\n",
            "0 upgraded, 3 newly installed, 0 to remove and 23 not upgraded.\n",
            "Need to get 256 kB of archives.\n",
            "After this operation, 813 kB of additional disk space will be used.\n",
            "Get:1 http://archive.ubuntu.com/ubuntu focal/main amd64 libpcap0.8 amd64 1.9.1-3 [128 kB]\n",
            "Get:2 http://archive.ubuntu.com/ubuntu focal/universe amd64 libhiredis0.14 amd64 0.14.0-6 [30.2 kB]\n",
            "Get:3 http://archive.ubuntu.com/ubuntu focal/universe amd64 zmap amd64 2.1.1-2build3 [98.0 kB]\n",
            "Fetched 256 kB in 0s (1,070 kB/s)\n",
            "Selecting previously unselected package libpcap0.8:amd64.\n",
            "(Reading database ... 128276 files and directories currently installed.)\n",
            "Preparing to unpack .../libpcap0.8_1.9.1-3_amd64.deb ...\n",
            "Unpacking libpcap0.8:amd64 (1.9.1-3) ...\n",
            "Selecting previously unselected package libhiredis0.14:amd64.\n",
            "Preparing to unpack .../libhiredis0.14_0.14.0-6_amd64.deb ...\n",
            "Unpacking libhiredis0.14:amd64 (0.14.0-6) ...\n",
            "Selecting previously unselected package zmap.\n",
            "Preparing to unpack .../zmap_2.1.1-2build3_amd64.deb ...\n",
            "Unpacking zmap (2.1.1-2build3) ...\n",
            "Setting up libpcap0.8:amd64 (1.9.1-3) ...\n",
            "Setting up libhiredis0.14:amd64 (0.14.0-6) ...\n",
            "Setting up zmap (2.1.1-2build3) ...\n",
            "Processing triggers for man-db (2.9.1-1) ...\n",
            "Processing triggers for libc-bin (2.31-0ubuntu9.9) ...\n"
          ]
        }
      ],
      "source": [
        "!apt install zmap"
      ]
    },
    {
      "cell_type": "code",
      "source": [
        "!git clone https://github.com/bm-hien/proxy/"
      ],
      "metadata": {
        "colab": {
          "base_uri": "https://localhost:8080/"
        },
        "id": "cVB_HMzlWRs6",
        "outputId": "51b1b237-d777-4f3b-d913-aa2830b0c3e6"
      },
      "execution_count": 2,
      "outputs": [
        {
          "output_type": "stream",
          "name": "stdout",
          "text": [
            "Cloning into 'proxy'...\n",
            "remote: Enumerating objects: 25, done.\u001b[K\n",
            "remote: Counting objects: 100% (25/25), done.\u001b[K\n",
            "remote: Compressing objects: 100% (18/18), done.\u001b[K\n",
            "remote: Total 25 (delta 1), reused 0 (delta 0), pack-reused 0\u001b[K\n",
            "Unpacking objects: 100% (25/25), 4.36 MiB | 6.15 MiB/s, done.\n"
          ]
        }
      ]
    },
    {
      "cell_type": "code",
      "source": [
        "!mv /content/proxy/prox /content\n",
        "!mv /content/proxy/config.json /content"
      ],
      "metadata": {
        "id": "xi1jJe11Wc2s"
      },
      "execution_count": 6,
      "outputs": []
    },
    {
      "cell_type": "code",
      "source": [
        "!chmod 777 *"
      ],
      "metadata": {
        "id": "xeuNbhoSWlIr"
      },
      "execution_count": 7,
      "outputs": []
    },
    {
      "cell_type": "code",
      "source": [
        "!zmap -p 8080 -q -B10G | ./prox"
      ],
      "metadata": {
        "id": "WbiMPitUXg5T"
      },
      "execution_count": null,
      "outputs": []
    },
    {
      "cell_type": "code",
      "source": [
        "from google.colab import drive\n",
        "drive.mount('/content/drive')"
      ],
      "metadata": {
        "id": "P4q8gcYjXr1y"
      },
      "execution_count": null,
      "outputs": []
    }
  ]
}