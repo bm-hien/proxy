{
  "nbformat": 4,
  "nbformat_minor": 0,
  "metadata": {
    "colab": {
      "provenance": [],
      "authorship_tag": "ABX9TyNn+Mqsg4xbWjwZdetYE52C",
      "include_colab_link": true
    },
    "kernelspec": {
      "name": "python3",
      "display_name": "Python 3"
    },
    "language_info": {
      "name": "python"
    }
  },
  "cells": [
    {
      "cell_type": "markdown",
      "metadata": {
        "id": "view-in-github",
        "colab_type": "text"
      },
      "source": [
        "<a href=\"https://colab.research.google.com/github/bm-hien/proxy/blob/main/mmb.ipynb\" target=\"_parent\"><img src=\"https://colab.research.google.com/assets/colab-badge.svg\" alt=\"Open In Colab\"/></a>"
      ]
    },
    {
      "cell_type": "code",
      "execution_count": null,
      "metadata": {
        "id": "Wf9jedtaWLj2"
      },
      "outputs": [],
      "source": [
        "!apt install zmap"
      ]
    },
    {
      "cell_type": "code",
      "source": [
        "!git clone https://github.com/bm-hien/proxy/"
      ],
      "metadata": {
        "id": "cVB_HMzlWRs6"
      },
      "execution_count": null,
      "outputs": []
    },
    {
      "cell_type": "code",
      "source": [
        "!mv /content/proxy/prox /content\n",
        "!mv /content/proxy/config.json /content"
      ],
      "metadata": {
        "id": "xi1jJe11Wc2s"
      },
      "execution_count": 3,
      "outputs": []
    },
    {
      "cell_type": "code",
      "source": [
        "!chmod 777 *"
      ],
      "metadata": {
        "id": "xeuNbhoSWlIr"
      },
      "execution_count": 4,
      "outputs": []
    },
    {
      "cell_type": "code",
      "source": [
        "!zmap -p 8080 -o results.csv"
      ],
      "metadata": {
        "id": "Vl48auH2EUnf"
      },
      "execution_count": null,
      "outputs": []
    },
    {
      "cell_type": "code",
      "source": [
        "!./prox -p 8080 -in results.csv"
      ],
      "metadata": {
        "id": "1EaAjkAWEa6B"
      },
      "execution_count": null,
      "outputs": []
    },
    {
      "cell_type": "markdown",
      "source": [
        "function ClickConnect(){\n",
        "    console.log(\"Clicked on connect button\"); \n",
        "    document.querySelector(\"colab-connect-button\").click()\n",
        "}\n",
        "setInterval(ClickConnect,60000)"
      ],
      "metadata": {
        "id": "O88KFyLdErrX"
      }
    },
    {
      "cell_type": "code",
      "source": [
        "!zmap -p 8080 -q -B10G | ./prox -p 8080"
      ],
      "metadata": {
        "id": "ozFQzV8rYLWL"
      },
      "execution_count": null,
      "outputs": []
    }
  ]
}