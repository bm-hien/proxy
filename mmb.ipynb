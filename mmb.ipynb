{
  "nbformat": 4,
  "nbformat_minor": 0,
  "metadata": {
    "colab": {
      "provenance": [],
      "authorship_tag": "ABX9TyO4AH5Q2XCVrNUYQJQqWHSb",
      "include_colab_link": true
    },
    "kernelspec": {
      "name": "python3",
      "display_name": "Python 3"
    },
    "language_info": {
      "name": "python"
    }
  },
  "cells": [
    {
      "cell_type": "markdown",
      "metadata": {
        "id": "view-in-github",
        "colab_type": "text"
      },
      "source": [
        "<a href=\"https://colab.research.google.com/github/bm-hien/proxy/blob/main/proxy.ipynb\" target=\"_parent\"><img src=\"https://colab.research.google.com/assets/colab-badge.svg\" alt=\"Open In Colab\"/></a>"
      ]
    },
    {
      "cell_type": "code",
      "execution_count": null,
      "metadata": {
        "id": "Wf9jedtaWLj2"
      },
      "outputs": [],
      "source": [
        "!apt install zmap"
      ]
    },
    {
      "cell_type": "code",
      "source": [
        "!git clone https://github.com/bm-hien/proxy/"
      ],
      "metadata": {
        "id": "cVB_HMzlWRs6"
      },
      "execution_count": null,
      "outputs": []
    },
    {
      "cell_type": "code",
      "source": [
        "!mv /content/proxy/prox /content\n",
        "!mv /content/proxy/config.json /content"
      ],
      "metadata": {
        "id": "xi1jJe11Wc2s"
      },
      "execution_count": 6,
      "outputs": []
    },
    {
      "cell_type": "code",
      "source": [
        "!chmod 777 *"
      ],
      "metadata": {
        "id": "xeuNbhoSWlIr"
      },
      "execution_count": 7,
      "outputs": []
    },
    {
      "cell_type": "code",
      "source": [
        "!zmap -p 8080 -q -B10G | ./prox"
      ],
      "metadata": {
        "id": "ozFQzV8rYLWL"
      },
      "execution_count": null,
      "outputs": []
    }
  ]
}
