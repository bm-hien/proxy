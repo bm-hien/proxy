{
  "nbformat": 4,
  "nbformat_minor": 0,
  "metadata": {
    "colab": {
      "provenance": [],
      "authorship_tag": "ABX9TyNn+Mqsg4xbWjwZdetYE52C",
      "include_colab_link": true
    },
    "kernelspec": {
      "name": "python3",
      "display_name": "Python 3"
    },
    "language_info": {
      "name": "python"
    }
  },
  "cells": [
    {
      "cell_type": "markdown",
      "metadata": {
        "id": "view-in-github",
        "colab_type": "text"
      },
      "source": [
        "<a href=\"https://colab.research.google.com/github/bm-hien/proxy/blob/main/mmb.ipynb\" target=\"_parent\"><img src=\"https://colab.research.google.com/assets/colab-badge.svg\" alt=\"Open In Colab\"/></a>"
      ]
    },
    {
      "cell_type": "code",
      "execution_count": 1,
      "metadata": {
        "id": "Wf9jedtaWLj2",
        "outputId": "9d918a98-8ced-4230-e9ec-d6f135c053c3",
        "colab": {
          "base_uri": "https://localhost:8080/"
        }
      },
      "outputs": [
        {
          "output_type": "stream",
          "name": "stdout",
          "text": [
            "Reading package lists... Done\n",
            "Building dependency tree       \n",
            "Reading state information... Done\n",
            "The following additional packages will be installed:\n",
            "  libhiredis0.14 libpcap0.8\n",
            "The following NEW packages will be installed:\n",
            "  libhiredis0.14 libpcap0.8 zmap\n",
            "0 upgraded, 3 newly installed, 0 to remove and 23 not upgraded.\n",
            "Need to get 256 kB of archives.\n",
            "After this operation, 813 kB of additional disk space will be used.\n",
            "Get:1 http://archive.ubuntu.com/ubuntu focal/main amd64 libpcap0.8 amd64 1.9.1-3 [128 kB]\n",
            "Get:2 http://archive.ubuntu.com/ubuntu focal/universe amd64 libhiredis0.14 amd64 0.14.0-6 [30.2 kB]\n",
            "Get:3 http://archive.ubuntu.com/ubuntu focal/universe amd64 zmap amd64 2.1.1-2build3 [98.0 kB]\n",
            "Fetched 256 kB in 1s (359 kB/s)\n",
            "Selecting previously unselected package libpcap0.8:amd64.\n",
            "(Reading database ... 128285 files and directories currently installed.)\n",
            "Preparing to unpack .../libpcap0.8_1.9.1-3_amd64.deb ...\n",
            "Unpacking libpcap0.8:amd64 (1.9.1-3) ...\n",
            "Selecting previously unselected package libhiredis0.14:amd64.\n",
            "Preparing to unpack .../libhiredis0.14_0.14.0-6_amd64.deb ...\n",
            "Unpacking libhiredis0.14:amd64 (0.14.0-6) ...\n",
            "Selecting previously unselected package zmap.\n",
            "Preparing to unpack .../zmap_2.1.1-2build3_amd64.deb ...\n",
            "Unpacking zmap (2.1.1-2build3) ...\n",
            "Setting up libpcap0.8:amd64 (1.9.1-3) ...\n",
            "Setting up libhiredis0.14:amd64 (0.14.0-6) ...\n",
            "Setting up zmap (2.1.1-2build3) ...\n",
            "Processing triggers for man-db (2.9.1-1) ...\n",
            "Processing triggers for libc-bin (2.31-0ubuntu9.9) ...\n"
          ]
        }
      ],
      "source": [
        "!apt install zmap"
      ]
    },
    {
      "cell_type": "code",
      "source": [
        "!git clone https://github.com/bm-hien/proxy/"
      ],
      "metadata": {
        "id": "cVB_HMzlWRs6",
        "outputId": "e24ceebd-5cac-421a-814c-2a3b1e42813e",
        "colab": {
          "base_uri": "https://localhost:8080/"
        }
      },
      "execution_count": 2,
      "outputs": [
        {
          "output_type": "stream",
          "name": "stdout",
          "text": [
            "Cloning into 'proxy'...\n",
            "remote: Enumerating objects: 37, done.\u001b[K\n",
            "remote: Counting objects: 100% (37/37), done.\u001b[K\n",
            "remote: Compressing objects: 100% (30/30), done.\u001b[K\n",
            "remote: Total 37 (delta 7), reused 0 (delta 0), pack-reused 0\u001b[K\n",
            "Unpacking objects: 100% (37/37), 4.37 MiB | 6.68 MiB/s, done.\n"
          ]
        }
      ]
    },
    {
      "cell_type": "code",
      "source": [
        "!mv /content/proxy/prox /content\n",
        "!mv /content/proxy/config.json /content"
      ],
      "metadata": {
        "id": "xi1jJe11Wc2s"
      },
      "execution_count": 3,
      "outputs": []
    },
    {
      "cell_type": "code",
      "source": [
        "!chmod 777 *"
      ],
      "metadata": {
        "id": "xeuNbhoSWlIr"
      },
      "execution_count": 4,
      "outputs": []
    },
    {
      "cell_type": "code",
      "source": [
        "!zmap -p 8080 -o results.csv"
      ],
      "metadata": {
        "id": "Vl48auH2EUnf"
      },
      "execution_count": null,
      "outputs": []
    },
    {
      "cell_type": "code",
      "source": [
        "!./prox -p 8080 -in results.csv"
      ],
      "metadata": {
        "id": "1EaAjkAWEa6B"
      },
      "execution_count": null,
      "outputs": []
    },
    {
      "cell_type": "markdown",
      "source": [
        "function ClickConnect(){\n",
        "    console.log(\"Clicked on connect button\"); \n",
        "    document.querySelector(\"colab-connect-button\").click()\n",
        "}\n",
        "setInterval(ClickConnect,60000)"
      ],
      "metadata": {
        "id": "O88KFyLdErrX"
      }
    },
    {
      "cell_type": "code",
      "source": [
        "!zmap -p 8080 -q -B10G | ./prox -p 8080"
      ],
      "metadata": {
        "id": "ozFQzV8rYLWL"
      },
      "execution_count": null,
      "outputs": []
    }
  ]
}